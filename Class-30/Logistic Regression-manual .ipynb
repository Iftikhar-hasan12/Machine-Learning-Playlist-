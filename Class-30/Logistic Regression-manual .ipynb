{
 "cells": [
  {
   "cell_type": "code",
   "execution_count": 44,
   "id": "cc629ab9-f94f-4039-98c2-21c8f1b57361",
   "metadata": {},
   "outputs": [],
   "source": [
    "import numpy as np\n",
    "\n",
    "# Input feature (X) and binary output (y)\n",
    "X = np.array([2,4,3])\n",
    "y = np.array([ 1, 1,0])\n",
    "\n",
    "# Reshape X to 2D\n",
    "X = X.reshape(-1, 1)\n"
   ]
  },
  {
   "cell_type": "markdown",
   "id": "79f39201-e27e-4341-b7cf-ddcee7b3e385",
   "metadata": {},
   "source": [
    "# Initialize w and b "
   ]
  },
  {
   "cell_type": "code",
   "execution_count": 45,
   "id": "2e8d640e-a219-49ac-975a-220dc9c692c5",
   "metadata": {},
   "outputs": [],
   "source": [
    "b1 = np.array([0.0])\n",
    "b0 = 0.0\n",
    "lr = 0.1"
   ]
  },
  {
   "cell_type": "code",
   "execution_count": 46,
   "id": "629fa5e1-57ff-44cf-8960-a1c67dbe89ee",
   "metadata": {},
   "outputs": [],
   "source": [
    "\n",
    "\n",
    "epochs = 1\n",
    "\n",
    "for epoch in range(epochs):\n",
    "    # step-01 : Prediction\n",
    "    z = np.dot(X, b1) + b0\n",
    "    \n",
    "    # Sigmoid function\n",
    "    y_pred = 1 / (1 + np.exp(-z))\n",
    "    \n",
    "     # step -02 : Compute Gradient \n",
    "    \n",
    "    db1 = np.dot(X.T, (y_pred - y)) / len(X)\n",
    "    db0 = np.sum(y_pred - y) / len(X)\n",
    "    # step-03 : Update cofficient \n",
    "    b1 = b1 - lr * db1\n",
    "    b0 = b0 - lr * db0\n",
    "    \n",
    "\n"
   ]
  },
  {
   "cell_type": "code",
   "execution_count": 47,
   "id": "767844e4-86c4-4fb6-aa61-08daab08140b",
   "metadata": {},
   "outputs": [
    {
     "name": "stdout",
     "output_type": "stream",
     "text": [
      "Epoch 1:\n",
      "  Predictions: [0.5 0.5 0.5]\n",
      "  Gradient db1: [-0.5], db0: -0.16666666666666666\n",
      "  Updated b1: 0.0500, b0: 0.0167\n"
     ]
    }
   ],
   "source": [
    "    print(f\"Epoch {epoch+1}:\")\n",
    "    print(f\"  Predictions: {y_pred.round(4)}\")\n",
    "\n",
    "    print(f\"  Gradient db1: {db1}, db0: {db0}\")\n",
    "    print(f\"  Updated b1: {b1[0]:.4f}, b0: {b0:.4f}\")"
   ]
  },
  {
   "cell_type": "markdown",
   "id": "f62e161b-c2b1-46c8-9462-c03c8f187965",
   "metadata": {},
   "source": [
    "# Predict on new input"
   ]
  },
  {
   "cell_type": "code",
   "execution_count": 48,
   "id": "f86fba9b-fc39-4c25-b789-3960b72aa04e",
   "metadata": {},
   "outputs": [
    {
     "name": "stdout",
     "output_type": "stream",
     "text": [
      "\n",
      "Prediction for x=8 is: 0.6027\n"
     ]
    }
   ],
   "source": [
    "\n",
    "def predict(x):\n",
    "    z = x * b1 + b0\n",
    "    return 1 / (1 + np.exp(-z))\n",
    "\n",
    "test_input = 8\n",
    "pred = predict(test_input)\n",
    "print(f\"\\nPrediction for x={test_input} is: {pred[0]:.4f}\")\n",
    "\n"
   ]
  },
  {
   "cell_type": "code",
   "execution_count": null,
   "id": "2dbc01e2-bc34-49eb-a1e7-5bcf72dcb9b9",
   "metadata": {},
   "outputs": [],
   "source": []
  },
  {
   "cell_type": "code",
   "execution_count": null,
   "id": "866093e7-9472-4401-bffb-938fa932e8b8",
   "metadata": {},
   "outputs": [],
   "source": []
  },
  {
   "cell_type": "code",
   "execution_count": null,
   "id": "aacc2145-ff99-4e22-a60c-e05191cd3aeb",
   "metadata": {},
   "outputs": [],
   "source": []
  },
  {
   "cell_type": "code",
   "execution_count": null,
   "id": "ea9785b3-7a02-4908-9a18-384538548bb4",
   "metadata": {},
   "outputs": [],
   "source": []
  },
  {
   "cell_type": "code",
   "execution_count": null,
   "id": "3d5fcc4c-d3e8-4866-991b-cbc8f0573374",
   "metadata": {},
   "outputs": [],
   "source": []
  }
 ],
 "metadata": {
  "kernelspec": {
   "display_name": "Python 3 (ipykernel)",
   "language": "python",
   "name": "python3"
  },
  "language_info": {
   "codemirror_mode": {
    "name": "ipython",
    "version": 3
   },
   "file_extension": ".py",
   "mimetype": "text/x-python",
   "name": "python",
   "nbconvert_exporter": "python",
   "pygments_lexer": "ipython3",
   "version": "3.13.1"
  }
 },
 "nbformat": 4,
 "nbformat_minor": 5
}
